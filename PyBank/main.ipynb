{
 "cells": [
  {
   "cell_type": "code",
   "execution_count": 1,
   "metadata": {},
   "outputs": [],
   "source": [
    "#Python Homework"
   ]
  },
  {
   "cell_type": "code",
   "execution_count": 31,
   "metadata": {},
   "outputs": [],
   "source": []
  },
  {
   "cell_type": "code",
   "execution_count": 1,
   "metadata": {},
   "outputs": [],
   "source": [
    "## Import CSV\n",
    "from pathlib import Path"
   ]
  },
  {
   "cell_type": "code",
   "execution_count": 5,
   "metadata": {},
   "outputs": [],
   "source": [
    "import csv"
   ]
  },
  {
   "cell_type": "code",
   "execution_count": 6,
   "metadata": {},
   "outputs": [],
   "source": [
    "line_num = 0\n",
    "Dates = []\n",
    "PLs = []\n",
    "Differences = []"
   ]
  },
  {
   "cell_type": "code",
   "execution_count": 7,
   "metadata": {},
   "outputs": [],
   "source": [
    "csv_path = Path('../PyBank/Homework_02-Python_Instructions_PyBank_Resources_budget_data.csv')"
   ]
  },
  {
   "cell_type": "code",
   "execution_count": 8,
   "metadata": {},
   "outputs": [],
   "source": [
    "with open(csv_path, 'r') as csvfile:\n",
    "    csvreader = csv.reader(csvfile, delimiter=',')\n",
    "    header = next(csvreader)\n",
    "    for row in csvreader:\n",
    "        date = str(row[0])\n",
    "        Dates.append(date)\n",
    "        PL = int(row[1])\n",
    "        PLs.append(PL)"
   ]
  },
  {
   "cell_type": "code",
   "execution_count": 9,
   "metadata": {},
   "outputs": [],
   "source": [
    "for line in range(len(PLs)-1):\n",
    "    Difference = (PLs[line+1] - PLs[line])\n",
    "    Differences.append(Difference)"
   ]
  },
  {
   "cell_type": "code",
   "execution_count": 10,
   "metadata": {},
   "outputs": [],
   "source": [
    "#Name the variables \n",
    "\n",
    "Total_Dates = len(Dates)\n",
    "Total_Del = sum(Differences)\n",
    "count_Del = len(Differences)\n",
    "Total_PL = sum(PLs)\n",
    "\n",
    "minimum = 0\n",
    "maximum = 0\n"
   ]
  },
  {
   "cell_type": "code",
   "execution_count": 11,
   "metadata": {},
   "outputs": [],
   "source": [
    "Average = round(Total_Del/count_Del, 2)"
   ]
  },
  {
   "cell_type": "code",
   "execution_count": 12,
   "metadata": {},
   "outputs": [],
   "source": [
    "for diff in Differences:\n",
    "    if maximum == 1000000000 :\n",
    "        maximum = diff\n",
    "    elif diff > maximum:\n",
    "        maximum = diff\n",
    "    elif diff < minimum:\n",
    "        minimum = diff"
   ]
  },
  {
   "cell_type": "code",
   "execution_count": 13,
   "metadata": {},
   "outputs": [],
   "source": [
    "location_of_maximum = Differences.index(maximum)\n",
    "location_of_minimum = Differences.index(minimum)"
   ]
  },
  {
   "cell_type": "code",
   "execution_count": 14,
   "metadata": {},
   "outputs": [
    {
     "name": "stdout",
     "output_type": "stream",
     "text": [
      "Feb-2012\n",
      "Sep-2013\n"
     ]
    }
   ],
   "source": [
    "print(Dates[location_of_maximum + 1])\n",
    "print(Dates[location_of_minimum + 1])"
   ]
  },
  {
   "cell_type": "code",
   "execution_count": 15,
   "metadata": {},
   "outputs": [],
   "source": [
    "max_month = Dates[location_of_maximum + 1]\n",
    "min_month = Dates[location_of_minimum + 1]     "
   ]
  },
  {
   "cell_type": "code",
   "execution_count": 16,
   "metadata": {},
   "outputs": [
    {
     "name": "stdout",
     "output_type": "stream",
     "text": [
      "------Financial Analyis------\n",
      "Total Months: 86 \n",
      "Total: $38382578 \n",
      "Average Chnage: $-2315.12 \n",
      "Greatest Increase in profits: Feb-2012 $1926159\n",
      "Greatest Decrease in profits: Sep-2013 $-2196167\n"
     ]
    }
   ],
   "source": [
    "print(\"------Financial Analyis------\")\n",
    "print(f\"Total Months: {Total_Dates} \")\n",
    "print(f\"Total: ${Total_PL} \")\n",
    "print(f\"Average Chnage: ${Average} \")\n",
    "print(f\"Greatest Increase in profits: {max_month} ${maximum}\")\n",
    "print(f\"Greatest Decrease in profits: {min_month} ${minimum}\")\n",
    "\n"
   ]
  },
  {
   "cell_type": "code",
   "execution_count": null,
   "metadata": {},
   "outputs": [],
   "source": []
  },
  {
   "cell_type": "code",
   "execution_count": 20,
   "metadata": {},
   "outputs": [],
   "source": [
    "output_path = Path(\"../PyBank/untitled.txt\")"
   ]
  },
  {
   "cell_type": "code",
   "execution_count": 24,
   "metadata": {},
   "outputs": [],
   "source": [
    "with open (output_path, 'w') as file:\n",
    "    file.write(\"------Financial Analyis------\\n\")\n",
    "    file.write(f\"Total Months: {Total_Dates}\\n\")\n",
    "    file.write(f\"Total: ${Total_PL}\\n\")\n",
    "    file.write(f\"Average Chnage: ${Average}\\n\")\n",
    "    file.write(f\"Greatest Increase in profits: {max_month} ${maximum}\\n\")\n",
    "    file.write(f\"Greatest Decrease in profits: {min_month} ${minimum}\")\n"
   ]
  },
  {
   "cell_type": "code",
   "execution_count": null,
   "metadata": {},
   "outputs": [],
   "source": []
  }
 ],
 "metadata": {
  "kernelspec": {
   "display_name": "Python 3",
   "language": "python",
   "name": "python3"
  },
  "language_info": {
   "codemirror_mode": {
    "name": "ipython",
    "version": 3
   },
   "file_extension": ".py",
   "mimetype": "text/x-python",
   "name": "python",
   "nbconvert_exporter": "python",
   "pygments_lexer": "ipython3",
   "version": "3.7.7"
  }
 },
 "nbformat": 4,
 "nbformat_minor": 4
}
