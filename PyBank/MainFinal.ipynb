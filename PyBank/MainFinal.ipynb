{
 "cells": [
  {
   "cell_type": "code",
   "execution_count": 1,
   "metadata": {},
   "outputs": [
    {
     "name": "stdout",
     "output_type": "stream",
     "text": [
      "------Financial Analyis------\n",
      "Total Months: 86 \n",
      "Total: $38382578 \n",
      "Average Chnage: $-2315.12 \n",
      "Greatest Increase in profits: Feb-2012 $1926159\n",
      "Greatest Decrease in profits: Sep-2013 $-2196167\n"
     ]
    }
   ],
   "source": [
    "from pathlib import Path\n",
    "import csv\n",
    "line_num = 0\n",
    "Dates = []\n",
    "PLs = []\n",
    "Differences = []\n",
    "csv_path = Path('../PyBank/Homework_02-Python_Instructions_PyBank_Resources_budget_data.csv')\n",
    "with open(csv_path, 'r') as csvfile:\n",
    "    csvreader = csv.reader(csvfile, delimiter=',')\n",
    "    header = next(csvreader)\n",
    "    line_num += 1    \n",
    "    for row in csvreader:\n",
    "        date = str(row[0])\n",
    "        Dates.append(date)\n",
    "        PL = int(row[1])\n",
    "        PLs.append(PL)\n",
    "for line in range(len(PLs)-1):\n",
    "    Difference = (PLs[line+1] - PLs[line])\n",
    "    Differences.append(Difference)\n",
    "Total_Dates = len(Dates)\n",
    "Total_Del = sum(Differences)\n",
    "count_Del = len(Differences)\n",
    "Total_PL = sum(PLs)\n",
    "\n",
    "minimum = 0\n",
    "maximum = 0\n",
    "Average = round(Total_Del/count_Del, 2)\n",
    "for diff in Differences:\n",
    "    if maximum == 1000000000 :\n",
    "        maximum = diff\n",
    "    elif diff > maximum:\n",
    "        maximum = diff\n",
    "    elif diff < minimum:\n",
    "        minimum = diff\n",
    "location_of_maximum = Differences.index(maximum)\n",
    "location_of_minimum = Differences.index(minimum)\n",
    "max_month = Dates[location_of_maximum + 1]\n",
    "min_month = Dates[location_of_minimum + 1]  \n",
    "\n",
    "print(\"------Financial Analyis------\")\n",
    "print(f\"Total Months: {Total_Dates} \")\n",
    "print(f\"Total: ${Total_PL} \")\n",
    "print(f\"Average Chnage: ${Average} \")\n",
    "print(f\"Greatest Increase in profits: {max_month} ${maximum}\")\n",
    "print(f\"Greatest Decrease in profits: {min_month} ${minimum}\")\n",
    "\n"
   ]
  },
  {
   "cell_type": "code",
   "execution_count": 3,
   "metadata": {},
   "outputs": [],
   "source": [
    "output_path = Path(\"../PyBank/untitled.txt\")"
   ]
  },
  {
   "cell_type": "code",
   "execution_count": 4,
   "metadata": {},
   "outputs": [],
   "source": [
    "with open (output_path, 'w') as file:\n",
    "    file.write(\"------Financial Analyis------\\n\")\n",
    "    file.write(f\"Total Months: {Total_Dates}\\n\")\n",
    "    file.write(f\"Total: ${Total_PL}\\n\")\n",
    "    file.write(f\"Average Chnage: ${Average}\\n\")\n",
    "    file.write(f\"Greatest Increase in profits: {max_month} ${maximum}\\n\")\n",
    "    file.write(f\"Greatest Decrease in profits: {min_month} ${minimum}\")\n"
   ]
  },
  {
   "cell_type": "code",
   "execution_count": null,
   "metadata": {},
   "outputs": [],
   "source": []
  }
 ],
 "metadata": {
  "kernelspec": {
   "display_name": "Python 3",
   "language": "python",
   "name": "python3"
  },
  "language_info": {
   "codemirror_mode": {
    "name": "ipython",
    "version": 3
   },
   "file_extension": ".py",
   "mimetype": "text/x-python",
   "name": "python",
   "nbconvert_exporter": "python",
   "pygments_lexer": "ipython3",
   "version": "3.7.7"
  }
 },
 "nbformat": 4,
 "nbformat_minor": 4
}
