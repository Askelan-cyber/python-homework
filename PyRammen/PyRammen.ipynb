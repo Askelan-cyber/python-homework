{
 "cells": [
  {
   "cell_type": "code",
   "execution_count": 1,
   "metadata": {},
   "outputs": [],
   "source": [
    "from pathlib import Path\n",
    "import pandas as pd\n",
    "import csv"
   ]
  },
  {
   "cell_type": "code",
   "execution_count": 2,
   "metadata": {},
   "outputs": [],
   "source": [
    "menu_csv_path = Path('../PyRammen/Resources/menu_data.csv')\n",
    "sales_csv_path = Path('../PyRammen/Resources/sales_data.csv')"
   ]
  },
  {
   "cell_type": "code",
   "execution_count": 3,
   "metadata": {},
   "outputs": [],
   "source": [
    "menu_list = []\n",
    "sales_list = []\n",
    "with open (menu_csv_path, 'r') as csvfile:\n",
    "    csvreader = csv.reader(csvfile, delimiter=',')\n",
    "    header = next(csvreader)\n",
    "    for row in csvreader:\n",
    "        menu_list.append(row)"
   ]
  },
  {
   "cell_type": "code",
   "execution_count": 4,
   "metadata": {},
   "outputs": [],
   "source": [
    "with open (sales_csv_path, 'r') as csvfile:\n",
    "    csvreader = csv.reader(csvfile, delimiter=',')\n",
    "    header = next(csvreader)\n",
    "    for row in csvreader:\n",
    "        sales_list.append(row)"
   ]
  },
  {
   "cell_type": "code",
   "execution_count": 5,
   "metadata": {},
   "outputs": [],
   "source": [
    "report = {}"
   ]
  },
  {
   "cell_type": "code",
   "execution_count": 6,
   "metadata": {},
   "outputs": [],
   "source": [
    "# ###Then, loop through every row in the sales list object.\n",
    "\n",
    "\n",
    "# #For each row of the sales data, set the following columns of the sales data to their own variables:\n",
    "\n",
    "# #Quantity\n",
    "# #Menu_Item\n",
    "\n",
    "\n",
    "\n",
    "# Perform a quick check if the sales_item is already included in the report. \n",
    "#If not, initialize the key-value pairs for the particular sales_item in the report. \n",
    "#Then, set the sales_item as a new key to the report dictionary and the values as a nested dictionary containing the following:\n",
    "    "
   ]
  },
  {
   "cell_type": "code",
   "execution_count": 7,
   "metadata": {},
   "outputs": [],
   "source": [
    "for row in sales_list:\n",
    "    \n",
    "    Quantity = int(row[3])\n",
    "    Menu_Item = row[4]\n",
    "    \n",
    "    if Menu_Item not in report.keys():\n",
    "        report[Menu_Item] = {\n",
    "        \"01-count\": 0,\n",
    "        \"02-revenue\": 0,\n",
    "        \"03-cogs\": 0,\n",
    "        \"04-profit\": 0}\n",
    "        \n",
    "    for row in menu_list:\n",
    "        Item = row[0]\n",
    "        Price = float(row[3])\n",
    "        Cost = int(row[4])\n",
    "        \n",
    "        if Item == Menu_Item:\n",
    "            report[Menu_Item]['01-count'] += Quantity\n",
    "            report[Menu_Item]['02-revenue'] += Price * Quantity\n",
    "            report[Menu_Item]['03-cogs'] += Cost * Quantity\n",
    "            report[Menu_Item]['04-profit'] += (Price * Quantity) - (Cost * Quantity)\n",
    "       \n",
    "\n",
    "\n",
    "\n"
   ]
  },
  {
   "cell_type": "code",
   "execution_count": 8,
   "metadata": {},
   "outputs": [],
   "source": [
    "# Create a nested loop by looping through every record in menu.\n",
    "\n",
    "\n",
    "# For each row of the menu data, set the following columns of the menu data to their own variables:\n",
    "\n",
    "# Item\n",
    "# Price\n",
    "# Cost\n",
    "\n",
    "\n",
    "\n",
    "# If the sales_item in sales is equal to the item in menu, capture the quantity from the sales data and the price and \n",
    "# cost from the menu data to calculate the profit for each item.\n",
    "\n",
    "\n",
    "# Cumulatively add the values to the corresponding metrics in the report like so:"
   ]
  },
  {
   "cell_type": "code",
   "execution_count": 22,
   "metadata": {},
   "outputs": [],
   "source": [
    "with open ('output.txt', 'w') as file:\n",
    "    for x,y in report.items():\n",
    "        string = f\"{x,y}\"\n",
    "        file.write(string)\n",
    "        file.write(\"/n\")\n",
    "    "
   ]
  },
  {
   "cell_type": "code",
   "execution_count": null,
   "metadata": {},
   "outputs": [],
   "source": []
  },
  {
   "cell_type": "code",
   "execution_count": 16,
   "metadata": {},
   "outputs": [
    {
     "data": {
      "text/plain": [
       "dict_items([('spicy miso ramen', {'01-count': 9238, '02-revenue': 110856.0, '03-cogs': 46190, '04-profit': 64666.0}), ('tori paitan ramen', {'01-count': 9156, '02-revenue': 119028.0, '03-cogs': 54936, '04-profit': 64092.0}), ('truffle butter ramen', {'01-count': 8982, '02-revenue': 125748.0, '03-cogs': 62874, '04-profit': 62874.0}), ('tonkotsu ramen', {'01-count': 9288, '02-revenue': 120744.0, '03-cogs': 55728, '04-profit': 65016.0}), ('vegetarian spicy miso', {'01-count': 9216, '02-revenue': 110592.0, '03-cogs': 46080, '04-profit': 64512.0}), ('shio ramen', {'01-count': 9180, '02-revenue': 100980.0, '03-cogs': 45900, '04-profit': 55080.0}), ('miso crab ramen', {'01-count': 8890, '02-revenue': 106680.0, '03-cogs': 53340, '04-profit': 53340.0}), ('nagomi shoyu', {'01-count': 9132, '02-revenue': 100452.0, '03-cogs': 45660, '04-profit': 54792.0}), ('soft-shell miso crab ramen', {'01-count': 9130, '02-revenue': 127820.0, '03-cogs': 63910, '04-profit': 63910.0}), ('burnt garlic tonkotsu ramen', {'01-count': 9070, '02-revenue': 126980.0, '03-cogs': 54420, '04-profit': 72560.0}), ('vegetarian curry + king trumpet mushroom ramen', {'01-count': 8824, '02-revenue': 114712.0, '03-cogs': 61768, '04-profit': 52944.0})])"
      ]
     },
     "execution_count": 16,
     "metadata": {},
     "output_type": "execute_result"
    }
   ],
   "source": []
  },
  {
   "cell_type": "code",
   "execution_count": null,
   "metadata": {},
   "outputs": [],
   "source": []
  }
 ],
 "metadata": {
  "kernelspec": {
   "display_name": "Python 3",
   "language": "python",
   "name": "python3"
  },
  "language_info": {
   "codemirror_mode": {
    "name": "ipython",
    "version": 3
   },
   "file_extension": ".py",
   "mimetype": "text/x-python",
   "name": "python",
   "nbconvert_exporter": "python",
   "pygments_lexer": "ipython3",
   "version": "3.7.7"
  }
 },
 "nbformat": 4,
 "nbformat_minor": 4
}
